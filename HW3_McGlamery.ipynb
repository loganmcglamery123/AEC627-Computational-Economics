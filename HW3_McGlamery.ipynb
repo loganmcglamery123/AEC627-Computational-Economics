{
 "cells": [
  {
   "cell_type": "markdown",
   "id": "a47927e6",
   "metadata": {},
   "source": [
    "1. Solve the following problems:\n",
    "    1. $x^3 - 6x^2+11x -6 = 0$\n",
    "\n",
    "    2. $x = cos(x)$ \n",
    "\n",
    "    3. $x_2 = x_1^2-x_1$, $\\frac{x_1^2}{16} + x_2^2 =1$ \n",
    "\n",
    "    4. $e^{-e^{x_1+x_2}}=x_2(1+x_1^2)$, $x_1\\cos(x_2)+x_2\\sin(x_1)=\\frac{1}{2}$"
   ]
  },
  {
   "cell_type": "markdown",
   "id": "10e365ef",
   "metadata": {},
   "source": [
    "Problem 1: Roots = [1.0, 2.0, 3.0]  \n",
    "Problem 2: solution 0.7390851332151607  \n",
    "Problem 3: Solutions (x1, x2) = [1.58100555, 0.91857299], [-0.61274319,  0.98819741]  \n",
    "Problem 4: Solution (x1, x2) = [0.44448862, 0.13907865]  "
   ]
  },
  {
   "cell_type": "code",
   "execution_count": 18,
   "id": "db1bc2f3",
   "metadata": {},
   "outputs": [
    {
     "name": "stdout",
     "output_type": "stream",
     "text": [
      "Problem 1: Roots = [1.0, 2.0, 3.0]\n",
      "Problem 2: Fixed point at x = 0.7390851332151607\n",
      "Problem 3: Solutions (x1, x2) = [array([1.58100555, 0.91857299]), array([-0.61274319,  0.98819741])]\n",
      "Problem 4: Solution (x1, x2) = [0.44448862 0.13907865]\n"
     ]
    }
   ],
   "source": [
    "import numpy as np\n",
    "import scipy as sp\n",
    "\n",
    "# 1\n",
    "def f1(x): \n",
    "    y1 = x**3 - 6*x**2 + 11*x - 6\n",
    "    return y1\n",
    "\n",
    "intervals = [(0.5, 1.5), (1.5, 2.5), (2.5, 3.5)]  # Divide the range into subintervals\n",
    "roots = []\n",
    "\n",
    "for x_a, x_b in intervals:\n",
    "    try:\n",
    "        root = sp.optimize.bisect(f1, x_a, x_b)\n",
    "        roots.append(root)\n",
    "    except ValueError:\n",
    "        pass  # Skip subintervals where no root is found\n",
    "\n",
    "print(\"Problem 1: Roots =\", roots)\n",
    "\n",
    "# 2\n",
    "def g2(x): \n",
    "    y2 = np.cos(x)\n",
    "    return y2\n",
    "\n",
    "x_init = 0.5  \n",
    "x_fixed = sp.optimize.fixed_point(g2, x_init)\n",
    "print(\"Problem 2: Fixed point at x =\", x_fixed)\n",
    "\n",
    "# Problem 3: Solve system of equations x2 = x1^2 - x1 and (x1^2)/16 + x2^2 = 1\n",
    "def g3_system(x):\n",
    "    x1, x2 = x\n",
    "    eq1 = x2 - (x1**2 - x1)  # From x2 = x1^2 - x1\n",
    "    eq2 = (x1**2)/16 + x2**2 - 1  # From (x1^2)/16 + x2^2 = 1\n",
    "    return [eq1, eq2]\n",
    "\n",
    "initial_guesses = [[0.5, 0.5], [-0.5, 0.5]]   # Multiple initial guesses\n",
    "solutions = []\n",
    "\n",
    "for guess in initial_guesses:\n",
    "    try:\n",
    "        sol = sp.optimize.root(g3_system, guess).x\n",
    "        solutions.append(sol)\n",
    "    except ValueError:\n",
    "        pass  # Skip guesses where no solution is found\n",
    "\n",
    "print(\"Problem 3: Solutions (x1, x2) =\", solutions)\n",
    "\n",
    "\n",
    "# Problem 4: Solve the system of equations:\n",
    "# e^(-e^(x1 + x2)) = x2(1 + x1^2)\n",
    "# x1*cos(x2) + x2*sin(x1) = 1/2\n",
    "def f4_system(x):\n",
    "    x1, x2 = x\n",
    "    eq1 = np.exp(-np.exp(x1 + x2)) - x2 * (1 + x1**2)\n",
    "    eq2 = x1 * np.cos(x2) + x2 * np.sin(x1) - 0.5\n",
    "    return [eq1, eq2]\n",
    "\n",
    "x_init = [0.1, 0.1]  # Initial guess for [x1, x2]\n",
    "x_solution = sp.optimize.root(f4_system, x_init).x\n",
    "print(\"Problem 4: Solution (x1, x2) =\", x_solution)"
   ]
  },
  {
   "cell_type": "markdown",
   "id": "b3b17bd8",
   "metadata": {},
   "source": [
    "2. Question 3.7 in the textbook.\n",
    "\n",
    "Consider a simple endowment economy with three agents and two goods.  Agent $i$ is initially endowed with $e_{ij}$ units of good $j$ and maximizes utility\n",
    "$$ U_i(x) = \\sum_{j=1}^2 a_{ij} (v_{ij}+1)^{-1} x_{ij}^{v_{ij}+1},$$\n",
    "subject to the budget constraint\n",
    "$$ \\sum_{j=1}^2 p_j x_{ij} = \\sum_{j=1}^2 p_j e_{ij}. $$\n",
    "Here, $x_{ij}$ is the amount of good $j$ consumed by agent $i$, $p_j$ is the market price of good $j$, and $a_{ij}>0$ and $v_{ij}<0$ are preference parameters.\n",
    "\n",
    "A competitive general equilibrium for the endowment economy is a pair of relative prices, $p_1$ and $p_2$, normalized to sum to one, such that all the goods markets clear and each agent maximizes utility subject to his budget constraints.  Compute the competitive general equilibrium for the following parameters:\n",
    "\n",
    "|(i,j)   | a_{ij}   | v_{ij}   | e_{ij} |\n",
    "|--------|----------|----------|----------|\n",
    "|(1,1)   | 2.0      | -2.0     |2.0       |\n",
    "|(1,2)   |1.5       |-0.5      |3.0       |\n",
    "|(2,1)   |1.5       |-1.5      |1.0       |\n",
    "|(2,2)   |2.0       |-0.5      |2.0       |\n",
    "|(3,1)   |1.5       |-0.5      |4.0       |\n",
    "|(3,2)   |2.0       |-1.5      |0.0       |\n"
   ]
  },
  {
   "cell_type": "markdown",
   "id": "d970a578",
   "metadata": {},
   "source": [
    "Equilibrium Prices: p1 = 0.3393, p2 = 0.6607  \n",
    "Equilibrium Allocations:  \n",
    "Agent 1: Good 1 = 3.8617, Good 2 = 2.0441  \n",
    "Agent 2: Good 1 = 2.0979, Good 2 = 1.4363  \n",
    "Agent 3: Good 1 = 1.0404, Good 2 = 1.5197  "
   ]
  },
  {
   "cell_type": "code",
   "execution_count": 30,
   "id": "c0f18a4b",
   "metadata": {},
   "outputs": [
    {
     "name": "stdout",
     "output_type": "stream",
     "text": [
      "Equilibrium Prices: p1 = 0.3393, p2 = 0.6607\n",
      "Equilibrium Allocations:\n",
      "Agent 1: Good 1 = 3.8617, Good 2 = 2.0441\n",
      "Agent 2: Good 1 = 2.0979, Good 2 = 1.4363\n",
      "Agent 3: Good 1 = 1.0404, Good 2 = 1.5197\n"
     ]
    }
   ],
   "source": [
    "\n",
    "\n",
    "import numpy as np\n",
    "from scipy.optimize import root_scalar\n",
    "\n",
    "# Parameters\n",
    "a = np.array([[2.0, 1.5], [1.5, 2.0], [1.5, 2.0]])  # a_ij\n",
    "v = np.array([[-2.0, -0.5], [-1.5, -0.5], [-0.5, -1.5]])  # v_ij\n",
    "e = np.array([[2.0, 3.0], [1.0, 2.0], [4.0, 0.0]])  # e_ij\n",
    "\n",
    "# Total endowments of goods\n",
    "total_endowment = np.sum(e, axis=0)\n",
    "\n",
    "# Market clearing function\n",
    "def market_clearing_simple(p1):\n",
    "    # Normalize prices\n",
    "    p2 = 1 - p1\n",
    "    x = np.zeros_like(e)  # Placeholder for equilibrium consumption\n",
    "\n",
    "    for i in range(3):  # For each agent\n",
    "        # Compute optimal consumption x_{i1} and x_{i2}\n",
    "        ratio = (a[i, 1] * p1 / (a[i, 0] * p2)) ** (1 / (v[i, 1] - v[i, 0]))\n",
    "        budget = p1 * e[i, 0] + p2 * e[i, 1]\n",
    "        x[i, 0] = budget / (p1 + p2 * ratio)\n",
    "        x[i, 1] = ratio * x[i, 0]\n",
    "\n",
    "    # Market clearing conditions for goods 1 and 2\n",
    "    excess_demand_1 = np.sum(x[:, 0]) - total_endowment[0]\n",
    "    excess_demand_2 = np.sum(x[:, 1]) - total_endowment[1]\n",
    "    return [excess_demand_1, excess_demand_2]\n",
    "\n",
    "# Wrap the function to only return the first market clearing condition (scalar root finding)\n",
    "def single_equilibrium_condition(p1):\n",
    "    return market_clearing_simple(p1)[0]\n",
    "\n",
    "# Solve for equilibrium price p1 using a scalar root-finding approach\n",
    "result = root_scalar(single_equilibrium_condition, bracket=[0.01, 0.99], method='brentq')\n",
    "\n",
    "# If successful, compute p1, p2, and equilibrium allocations\n",
    "if result.converged:\n",
    "    p1_eq = result.root\n",
    "    p2_eq = 1 - p1_eq\n",
    "\n",
    "    # Compute equilibrium allocations\n",
    "    x_eq = np.zeros_like(e)\n",
    "    for i in range(3):\n",
    "        ratio = (a[i, 1] * p1_eq / (a[i, 0] * p2_eq)) ** (1 / (v[i, 1] - v[i, 0]))\n",
    "        budget = p1_eq * e[i, 0] + p2_eq * e[i, 1]\n",
    "        x_eq[i, 0] = budget / (p1_eq + p2_eq * ratio)\n",
    "        x_eq[i, 1] = ratio * x_eq[i, 0]\n",
    "\n",
    "    # Output results\n",
    "    print(f\"Equilibrium Prices: p1 = {p1_eq:.4f}, p2 = {p2_eq:.4f}\")\n",
    "    print(\"Equilibrium Allocations:\")\n",
    "    for i in range(3):\n",
    "        print(f\"Agent {i+1}: Good 1 = {x_eq[i, 0]:.4f}, Good 2 = {x_eq[i, 1]:.4f}\")\n",
    "else:\n",
    "    print(\"Root-finding failed to converge.\")\n"
   ]
  },
  {
   "cell_type": "markdown",
   "id": "d0cc77ee",
   "metadata": {},
   "source": [
    "3. Question 3.8 in the textbook.\n",
    "\n",
    "Potatoes are storable intraseasonaly, but not interseasonaly, implying that the harvest is entirely consumed over the subsequent twelve months, $i=1,2$. Denoting initial supply by $s$ and consumption in period $i$ by $c_i$, material balance requires that:\n",
    "$$\n",
    "s = \\sum_{i=1}^{2}c_i.\n",
    "$$\n",
    "Competition among storers possessing perfect foresight eliminate arbitrage opportunities; thus,\n",
    "$$\n",
    "p_i + \\kappa = \\delta p_{i+1},\\qquad i=1,\n",
    "$$\n",
    "where $p_i$ is equilibrium price in period $i$, $\\kappa=0.2$ is per-period unit cost of storage, and $\\delta=0.95$ is per-period discount factor.  Demand, assumed the same across periods, is given by\n",
    "$$\n",
    "p_i=c_i^{-5}.\n",
    "$$\n",
    "Compute the equilibrium period 1 and period 2 prices for $s=1$, $s=2$, and $s=2$.\n"
   ]
  },
  {
   "cell_type": "markdown",
   "id": "d9e3a466",
   "metadata": {},
   "source": [
    "S = 1, Period 1 Price: 31.0925, Period 2 Price: 32.9395  \n",
    "S = 2, Period 1 Price: 0.8814, Period 2 Price: 1.1383  \n",
    "S = 3, Period 1 Price: 0.0680, Period 2 Price: 0.2821  "
   ]
  },
  {
   "cell_type": "code",
   "execution_count": 34,
   "id": "f5e26cb2",
   "metadata": {},
   "outputs": [
    {
     "name": "stdout",
     "output_type": "stream",
     "text": [
      "Supply: 1, Period 1 Price: 31.0925, Period 2 Price: 32.9395\n",
      "Supply: 2, Period 1 Price: 0.8814, Period 2 Price: 1.1383\n",
      "Supply: 3, Period 1 Price: 0.0680, Period 2 Price: 0.2821\n"
     ]
    }
   ],
   "source": [
    "import numpy as np\n",
    "from scipy.optimize import fsolve\n",
    "\n",
    "# Parameters\n",
    "kappa = 0.2  # Per-period unit cost of storage\n",
    "delta = 0.95  # Per-period discount factor\n",
    "\n",
    "# Demand function\n",
    "def demand(c):\n",
    "    return c**-5\n",
    "\n",
    "# Equations to solve for equilibrium\n",
    "def equilibrium_system(variables, s):\n",
    "    c1, c2 = variables\n",
    "    p1 = demand(c1)\n",
    "    p2 = demand(c2)\n",
    "\n",
    "    eq1 = c1 + c2 - s  # Material balance\n",
    "    eq2 = p1 + kappa - delta * p2  # Arbitrage condition\n",
    "\n",
    "    return [eq1, eq2]\n",
    "\n",
    "# Solve for different values of initial supply\n",
    "results = {}\n",
    "for s in [1, 2, 3]:\n",
    "    initial_guess = [s / 2, s / 2]  # Initial guess for c1 and c2\n",
    "    solution = fsolve(equilibrium_system, initial_guess, args=(s,))\n",
    "\n",
    "    c1, c2 = solution\n",
    "    p1 = demand(c1)\n",
    "    p2 = demand(c2)\n",
    "\n",
    "    results[s] = (p1, p2)\n",
    "\n",
    "# Display results\n",
    "for s, (p1, p2) in results.items():\n",
    "    print(f\"Supply: {s}, Period 1 Price: {p1:.4f}, Period 2 Price: {p2:.4f}\")\n"
   ]
  }
 ],
 "metadata": {
  "kernelspec": {
   "display_name": "myenv",
   "language": "python",
   "name": "python3"
  },
  "language_info": {
   "codemirror_mode": {
    "name": "ipython",
    "version": 3
   },
   "file_extension": ".py",
   "mimetype": "text/x-python",
   "name": "python",
   "nbconvert_exporter": "python",
   "pygments_lexer": "ipython3",
   "version": "3.8.20"
  }
 },
 "nbformat": 4,
 "nbformat_minor": 5
}
