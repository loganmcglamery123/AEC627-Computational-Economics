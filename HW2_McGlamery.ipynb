{
 "cells": [
  {
   "cell_type": "markdown",
   "id": "54b25d29",
   "metadata": {},
   "source": [
    "# AEC 627 Applied Computational Economics\n",
    "# Homework 2"
   ]
  },
  {
   "cell_type": "code",
   "execution_count": 15,
   "id": "9d048b52",
   "metadata": {},
   "outputs": [],
   "source": [
    "import numpy as np\n",
    "from scipy.sparse import csr_matrix\n",
    "from scipy.sparse.linalg import spsolve"
   ]
  },
  {
   "cell_type": "markdown",
   "id": "373f89a5",
   "metadata": {},
   "source": [
    "1. Solve linear system of equation in Exercise 2.1 in M\\&P (Page 19) using numpy.linalg.solv()  \n",
    "\n",
    "Solution x using numpy.linalg.solv():  \n",
    "[ 0.01893441]  \n",
    "[ 0.01680508]  \n",
    "[ 0.02335523]  \n",
    "[-0.00041085]  "
   ]
  },
  {
   "cell_type": "code",
   "execution_count": 20,
   "id": "62bc362e",
   "metadata": {},
   "outputs": [
    {
     "name": "stdout",
     "output_type": "stream",
     "text": [
      "A:\n",
      "[[ 54  14 -11   2]\n",
      " [ 14  50  -4  29]\n",
      " [-11  -4  55  22]\n",
      " [  2  29  22  95]]\n",
      "\n",
      "b:\n",
      "[[1]\n",
      " [1]\n",
      " [1]\n",
      " [1]]\n",
      "\n",
      "Solution x:\n",
      "[[ 0.01893441]\n",
      " [ 0.01680508]\n",
      " [ 0.02335523]\n",
      " [-0.00041085]]\n"
     ]
    }
   ],
   "source": [
    "A = np.array([[54, 14, -11, 2], [14, 50, -4, 29], [-11, -4, 55, 22], [2, 29, 22, 95]])\n",
    "# Result vector b\n",
    "b = np.array([[1], [1], [1], [1]])\n",
    "\n",
    "print(\"A:\")\n",
    "print(A)\n",
    "\n",
    "print(\"\\nb:\")\n",
    "print(b)\n",
    "\n",
    "# Solve for x\n",
    "x = np.linalg.solve(A, b)\n",
    "print(\"\\nSolution x:\")\n",
    "print(x)"
   ]
  },
  {
   "cell_type": "markdown",
   "id": "6d0f75b8",
   "metadata": {},
   "source": [
    "2. Use Guass-Jacobi iteration to solve the linear system of equation in Exercise 2.1 in M&P (Page 19).\n",
    "\n",
    "Solution x using Gauss-Jacobi method:  \n",
    "[ 0.01893442]  \n",
    "[ 0.01680461]  \n",
    "[ 0.02335498]  \n",
    "[-0.00041065]  "
   ]
  },
  {
   "cell_type": "code",
   "execution_count": 24,
   "id": "e2977a47",
   "metadata": {},
   "outputs": [
    {
     "name": "stdout",
     "output_type": "stream",
     "text": [
      "Converged after 18 iterations.\n",
      "Solution x using Gauss-Jacobi method:\n",
      "[[ 0.01893442]\n",
      " [ 0.01680461]\n",
      " [ 0.02335498]\n",
      " [-0.00041065]]\n"
     ]
    }
   ],
   "source": [
    "def gauss_jacobi(A, b, x0, tol=1e-6, max_iter=100):\n",
    "    D = np.diag(np.diag(A))\n",
    "    L_plus_U = A - D\n",
    "    x = x0\n",
    "\n",
    "    for i in range(max_iter):\n",
    "        x_new = np.linalg.inv(D) @ (b - L_plus_U @ x)\n",
    "        if np.linalg.norm(x_new - x, np.inf) < tol:\n",
    "            print(f\"Converged after {i+1} iterations.\")\n",
    "            return x_new\n",
    "        x = x_new\n",
    "\n",
    "    print(\"Did not converge.\")\n",
    "    return x\n",
    "\n",
    "x0 = np.zeros_like(b)\n",
    "\n",
    "x = gauss_jacobi(A, b, x0)\n",
    "print(\"Solution x using Gauss-Jacobi method:\")\n",
    "print(x)"
   ]
  },
  {
   "cell_type": "markdown",
   "id": "d84bb2fc",
   "metadata": {},
   "source": [
    "3. For the $A$ matrix in Exercise 2.1 in M\\&P (Page 19), set $A(1,3)=A(1,4)=A(2,4)=A(3,1)=A(4,1)=A(4,2)=0$. Set $A$ as a sparse matrix and then use sparse.linalg.spsolve() to solve this linear system of equations.\n",
    "\n",
    "Solution x using sparse.linalg.spsolve:  \n",
    "[0.01400141]  \n",
    "[0.01742313]  \n",
    "[0.01679409]  \n",
    "[0.00663716]"
   ]
  },
  {
   "cell_type": "code",
   "execution_count": 26,
   "id": "32a365e5",
   "metadata": {},
   "outputs": [
    {
     "name": "stdout",
     "output_type": "stream",
     "text": [
      "A_sparse\n",
      "[[54 14  0  0]\n",
      " [14 50 -4  0]\n",
      " [ 0 -4 55 22]\n",
      " [ 0  0 22 95]]\n",
      "\n",
      "Solution using sparse.linalg.spsolve:\n",
      "[0.01400141 0.01742313 0.01679409 0.00663716]\n"
     ]
    }
   ],
   "source": [
    "A[0, 2] = A[0, 3] = A[1, 3] = A[2, 0] = A[3, 0] = A[3, 1] = 0\n",
    "\n",
    "print(\"A_sparse\")\n",
    "print(A)\n",
    "\n",
    "A_sparse = csr_matrix(A)\n",
    "\n",
    "x = spsolve(A_sparse, b)\n",
    "\n",
    "print(\"\\nSolution using sparse.linalg.spsolve:\")\n",
    "print(x)"
   ]
  },
  {
   "cell_type": "markdown",
   "id": "2b99ce0d",
   "metadata": {},
   "source": [
    "4. In Coding for Economists, read the Data section on Data because we will not cover it in class."
   ]
  }
 ],
 "metadata": {
  "kernelspec": {
   "display_name": "myenv",
   "language": "python",
   "name": "python3"
  },
  "language_info": {
   "codemirror_mode": {
    "name": "ipython",
    "version": 3
   },
   "file_extension": ".py",
   "mimetype": "text/x-python",
   "name": "python",
   "nbconvert_exporter": "python",
   "pygments_lexer": "ipython3",
   "version": "3.8.20"
  }
 },
 "nbformat": 4,
 "nbformat_minor": 5
}
